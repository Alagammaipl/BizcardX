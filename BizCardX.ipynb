{
  "nbformat": 4,
  "nbformat_minor": 0,
  "metadata": {
    "colab": {
      "provenance": [],
      "authorship_tag": "ABX9TyPBmXCia3bCQGe05IO55KrN",
      "include_colab_link": true
    },
    "kernelspec": {
      "name": "python3",
      "display_name": "Python 3"
    },
    "language_info": {
      "name": "python"
    },
    "accelerator": "GPU",
    "gpuClass": "standard"
  },
  "cells": [
    {
      "cell_type": "markdown",
      "metadata": {
        "id": "view-in-github",
        "colab_type": "text"
      },
      "source": [
        "<a href=\"https://colab.research.google.com/github/Alagammaipl/BizcardX/blob/main/BizCardX.ipynb\" target=\"_parent\"><img src=\"https://colab.research.google.com/assets/colab-badge.svg\" alt=\"Open In Colab\"/></a>"
      ]
    },
    {
      "cell_type": "code",
      "execution_count": 1,
      "metadata": {
        "colab": {
          "base_uri": "https://localhost:8080/"
        },
        "id": "OFdrsDbwaz8h",
        "outputId": "2a1fc7ea-e23c-40b5-bf17-b797c0e3d3c8"
      },
      "outputs": [
        {
          "output_type": "stream",
          "name": "stdout",
          "text": [
            "Looking in indexes: https://pypi.org/simple, https://us-python.pkg.dev/colab-wheels/public/simple/\n",
            "Requirement already satisfied: easyocr in /usr/local/lib/python3.8/dist-packages (1.6.2)\n",
            "Requirement already satisfied: PyYAML in /usr/local/lib/python3.8/dist-packages (from easyocr) (6.0)\n",
            "Requirement already satisfied: Shapely in /usr/local/lib/python3.8/dist-packages (from easyocr) (2.0.1)\n",
            "Requirement already satisfied: pyclipper in /usr/local/lib/python3.8/dist-packages (from easyocr) (1.3.0.post4)\n",
            "Requirement already satisfied: torchvision>=0.5 in /usr/local/lib/python3.8/dist-packages (from easyocr) (0.14.1+cu116)\n",
            "Requirement already satisfied: opencv-python-headless<=4.5.4.60 in /usr/local/lib/python3.8/dist-packages (from easyocr) (4.5.4.60)\n",
            "Requirement already satisfied: Pillow in /usr/local/lib/python3.8/dist-packages (from easyocr) (8.4.0)\n",
            "Requirement already satisfied: scipy in /usr/local/lib/python3.8/dist-packages (from easyocr) (1.10.1)\n",
            "Requirement already satisfied: torch in /usr/local/lib/python3.8/dist-packages (from easyocr) (1.13.1+cu116)\n",
            "Requirement already satisfied: scikit-image in /usr/local/lib/python3.8/dist-packages (from easyocr) (0.19.3)\n",
            "Requirement already satisfied: ninja in /usr/local/lib/python3.8/dist-packages (from easyocr) (1.11.1)\n",
            "Requirement already satisfied: python-bidi in /usr/local/lib/python3.8/dist-packages (from easyocr) (0.4.2)\n",
            "Requirement already satisfied: numpy in /usr/local/lib/python3.8/dist-packages (from easyocr) (1.22.4)\n",
            "Requirement already satisfied: typing-extensions in /usr/local/lib/python3.8/dist-packages (from torchvision>=0.5->easyocr) (4.5.0)\n",
            "Requirement already satisfied: requests in /usr/local/lib/python3.8/dist-packages (from torchvision>=0.5->easyocr) (2.25.1)\n",
            "Requirement already satisfied: six in /usr/local/lib/python3.8/dist-packages (from python-bidi->easyocr) (1.15.0)\n",
            "Requirement already satisfied: PyWavelets>=1.1.1 in /usr/local/lib/python3.8/dist-packages (from scikit-image->easyocr) (1.4.1)\n",
            "Requirement already satisfied: networkx>=2.2 in /usr/local/lib/python3.8/dist-packages (from scikit-image->easyocr) (3.0)\n",
            "Requirement already satisfied: tifffile>=2019.7.26 in /usr/local/lib/python3.8/dist-packages (from scikit-image->easyocr) (2023.2.28)\n",
            "Requirement already satisfied: imageio>=2.4.1 in /usr/local/lib/python3.8/dist-packages (from scikit-image->easyocr) (2.9.0)\n",
            "Requirement already satisfied: packaging>=20.0 in /usr/local/lib/python3.8/dist-packages (from scikit-image->easyocr) (23.0)\n",
            "Requirement already satisfied: certifi>=2017.4.17 in /usr/local/lib/python3.8/dist-packages (from requests->torchvision>=0.5->easyocr) (2022.12.7)\n",
            "Requirement already satisfied: urllib3<1.27,>=1.21.1 in /usr/local/lib/python3.8/dist-packages (from requests->torchvision>=0.5->easyocr) (1.26.14)\n",
            "Requirement already satisfied: chardet<5,>=3.0.2 in /usr/local/lib/python3.8/dist-packages (from requests->torchvision>=0.5->easyocr) (4.0.0)\n",
            "Requirement already satisfied: idna<3,>=2.5 in /usr/local/lib/python3.8/dist-packages (from requests->torchvision>=0.5->easyocr) (2.10)\n"
          ]
        }
      ],
      "source": [
        "!pip install easyocr"
      ]
    },
    {
      "cell_type": "code",
      "source": [
        "import PIL\n",
        "from PIL import ImageDraw\n",
        "im = PIL.Image.open(\"/content/1.png\")\n",
        "im"
      ],
      "metadata": {
        "colab": {
          "base_uri": "https://localhost:8080/",
          "height": 334
        },
        "id": "SUg49hzVa6Iv",
        "outputId": "6d9a4aee-99a9-4e3d-8b1a-f6b0ed13b183"
      },
      "execution_count": 2,
      "outputs": [
        {
          "output_type": "error",
          "ename": "FileNotFoundError",
          "evalue": "ignored",
          "traceback": [
            "\u001b[0;31m---------------------------------------------------------------------------\u001b[0m",
            "\u001b[0;31mFileNotFoundError\u001b[0m                         Traceback (most recent call last)",
            "\u001b[0;32m<ipython-input-2-8c17b12f25fa>\u001b[0m in \u001b[0;36m<module>\u001b[0;34m\u001b[0m\n\u001b[1;32m      1\u001b[0m \u001b[0;32mimport\u001b[0m \u001b[0mPIL\u001b[0m\u001b[0;34m\u001b[0m\u001b[0;34m\u001b[0m\u001b[0m\n\u001b[1;32m      2\u001b[0m \u001b[0;32mfrom\u001b[0m \u001b[0mPIL\u001b[0m \u001b[0;32mimport\u001b[0m \u001b[0mImageDraw\u001b[0m\u001b[0;34m\u001b[0m\u001b[0;34m\u001b[0m\u001b[0m\n\u001b[0;32m----> 3\u001b[0;31m \u001b[0mim\u001b[0m \u001b[0;34m=\u001b[0m \u001b[0mPIL\u001b[0m\u001b[0;34m.\u001b[0m\u001b[0mImage\u001b[0m\u001b[0;34m.\u001b[0m\u001b[0mopen\u001b[0m\u001b[0;34m(\u001b[0m\u001b[0;34m\"/content/1.png\"\u001b[0m\u001b[0;34m)\u001b[0m\u001b[0;34m\u001b[0m\u001b[0;34m\u001b[0m\u001b[0m\n\u001b[0m\u001b[1;32m      4\u001b[0m \u001b[0mim\u001b[0m\u001b[0;34m\u001b[0m\u001b[0;34m\u001b[0m\u001b[0m\n",
            "\u001b[0;32m/usr/local/lib/python3.8/dist-packages/PIL/Image.py\u001b[0m in \u001b[0;36mopen\u001b[0;34m(fp, mode, formats)\u001b[0m\n\u001b[1;32m   2973\u001b[0m \u001b[0;34m\u001b[0m\u001b[0m\n\u001b[1;32m   2974\u001b[0m     \u001b[0;32mif\u001b[0m \u001b[0mfilename\u001b[0m\u001b[0;34m:\u001b[0m\u001b[0;34m\u001b[0m\u001b[0;34m\u001b[0m\u001b[0m\n\u001b[0;32m-> 2975\u001b[0;31m         \u001b[0mfp\u001b[0m \u001b[0;34m=\u001b[0m \u001b[0mbuiltins\u001b[0m\u001b[0;34m.\u001b[0m\u001b[0mopen\u001b[0m\u001b[0;34m(\u001b[0m\u001b[0mfilename\u001b[0m\u001b[0;34m,\u001b[0m \u001b[0;34m\"rb\"\u001b[0m\u001b[0;34m)\u001b[0m\u001b[0;34m\u001b[0m\u001b[0;34m\u001b[0m\u001b[0m\n\u001b[0m\u001b[1;32m   2976\u001b[0m         \u001b[0mexclusive_fp\u001b[0m \u001b[0;34m=\u001b[0m \u001b[0;32mTrue\u001b[0m\u001b[0;34m\u001b[0m\u001b[0;34m\u001b[0m\u001b[0m\n\u001b[1;32m   2977\u001b[0m \u001b[0;34m\u001b[0m\u001b[0m\n",
            "\u001b[0;31mFileNotFoundError\u001b[0m: [Errno 2] No such file or directory: '/content/1.png'"
          ]
        }
      ]
    },
    {
      "cell_type": "code",
      "source": [
        "import easyocr"
      ],
      "metadata": {
        "id": "TQbtj71nbKqA"
      },
      "execution_count": 3,
      "outputs": []
    },
    {
      "cell_type": "code",
      "source": [
        "reader = easyocr.Reader(['en'])"
      ],
      "metadata": {
        "id": "ynLA5ecYcAuA"
      },
      "execution_count": null,
      "outputs": []
    },
    {
      "cell_type": "code",
      "source": [
        "bounds = reader.readtext('/content/1.png', detail = 0, paragraph=True)\n",
        "bounds"
      ],
      "metadata": {
        "id": "y4TqAvI3bAmB"
      },
      "execution_count": null,
      "outputs": []
    },
    {
      "cell_type": "code",
      "source": [
        "! pip install streamlit"
      ],
      "metadata": {
        "colab": {
          "base_uri": "https://localhost:8080/"
        },
        "id": "rJD_im5ncqJN",
        "outputId": "ac41c131-e780-485a-f723-d79f4a5d21aa"
      },
      "execution_count": 2,
      "outputs": [
        {
          "output_type": "stream",
          "name": "stdout",
          "text": [
            "Looking in indexes: https://pypi.org/simple, https://us-python.pkg.dev/colab-wheels/public/simple/\n",
            "Requirement already satisfied: streamlit in /usr/local/lib/python3.8/dist-packages (1.19.0)\n",
            "Requirement already satisfied: altair>=3.2.0 in /usr/local/lib/python3.8/dist-packages (from streamlit) (4.2.2)\n",
            "Requirement already satisfied: requests>=2.4 in /usr/local/lib/python3.8/dist-packages (from streamlit) (2.25.1)\n",
            "Requirement already satisfied: pympler>=0.9 in /usr/local/lib/python3.8/dist-packages (from streamlit) (1.0.1)\n",
            "Requirement already satisfied: cachetools>=4.0 in /usr/local/lib/python3.8/dist-packages (from streamlit) (5.3.0)\n",
            "Requirement already satisfied: pyarrow>=4.0 in /usr/local/lib/python3.8/dist-packages (from streamlit) (9.0.0)\n",
            "Requirement already satisfied: watchdog in /usr/local/lib/python3.8/dist-packages (from streamlit) (2.3.1)\n",
            "Requirement already satisfied: packaging>=14.1 in /usr/local/lib/python3.8/dist-packages (from streamlit) (23.0)\n",
            "Requirement already satisfied: pydeck>=0.1.dev5 in /usr/local/lib/python3.8/dist-packages (from streamlit) (0.8.0)\n",
            "Requirement already satisfied: pandas>=0.25 in /usr/local/lib/python3.8/dist-packages (from streamlit) (1.3.5)\n",
            "Requirement already satisfied: validators>=0.2 in /usr/local/lib/python3.8/dist-packages (from streamlit) (0.20.0)\n",
            "Requirement already satisfied: tzlocal>=1.1 in /usr/local/lib/python3.8/dist-packages (from streamlit) (1.5.1)\n",
            "Requirement already satisfied: pillow>=6.2.0 in /usr/local/lib/python3.8/dist-packages (from streamlit) (8.4.0)\n",
            "Requirement already satisfied: numpy in /usr/local/lib/python3.8/dist-packages (from streamlit) (1.22.4)\n",
            "Requirement already satisfied: rich>=10.11.0 in /usr/local/lib/python3.8/dist-packages (from streamlit) (13.3.2)\n",
            "Requirement already satisfied: tornado>=6.0.3 in /usr/local/lib/python3.8/dist-packages (from streamlit) (6.2)\n",
            "Requirement already satisfied: typing-extensions>=3.10.0.0 in /usr/local/lib/python3.8/dist-packages (from streamlit) (4.5.0)\n",
            "Requirement already satisfied: blinker>=1.0.0 in /usr/local/lib/python3.8/dist-packages (from streamlit) (1.5)\n",
            "Requirement already satisfied: toml in /usr/local/lib/python3.8/dist-packages (from streamlit) (0.10.2)\n",
            "Requirement already satisfied: python-dateutil in /usr/local/lib/python3.8/dist-packages (from streamlit) (2.8.2)\n",
            "Requirement already satisfied: importlib-metadata>=1.4 in /usr/local/lib/python3.8/dist-packages (from streamlit) (6.0.0)\n",
            "Requirement already satisfied: click>=7.0 in /usr/local/lib/python3.8/dist-packages (from streamlit) (8.1.3)\n",
            "Requirement already satisfied: protobuf<4,>=3.12 in /usr/local/lib/python3.8/dist-packages (from streamlit) (3.19.6)\n",
            "Requirement already satisfied: semver in /usr/local/lib/python3.8/dist-packages (from streamlit) (2.13.0)\n",
            "Requirement already satisfied: gitpython!=3.1.19 in /usr/local/lib/python3.8/dist-packages (from streamlit) (3.1.31)\n",
            "Requirement already satisfied: jsonschema>=3.0 in /usr/local/lib/python3.8/dist-packages (from altair>=3.2.0->streamlit) (4.3.3)\n",
            "Requirement already satisfied: toolz in /usr/local/lib/python3.8/dist-packages (from altair>=3.2.0->streamlit) (0.12.0)\n",
            "Requirement already satisfied: entrypoints in /usr/local/lib/python3.8/dist-packages (from altair>=3.2.0->streamlit) (0.4)\n",
            "Requirement already satisfied: jinja2 in /usr/local/lib/python3.8/dist-packages (from altair>=3.2.0->streamlit) (3.1.2)\n",
            "Requirement already satisfied: gitdb<5,>=4.0.1 in /usr/local/lib/python3.8/dist-packages (from gitpython!=3.1.19->streamlit) (4.0.10)\n",
            "Requirement already satisfied: zipp>=0.5 in /usr/local/lib/python3.8/dist-packages (from importlib-metadata>=1.4->streamlit) (3.15.0)\n",
            "Requirement already satisfied: pytz>=2017.3 in /usr/local/lib/python3.8/dist-packages (from pandas>=0.25->streamlit) (2022.7.1)\n",
            "Requirement already satisfied: six>=1.5 in /usr/local/lib/python3.8/dist-packages (from python-dateutil->streamlit) (1.15.0)\n",
            "Requirement already satisfied: certifi>=2017.4.17 in /usr/local/lib/python3.8/dist-packages (from requests>=2.4->streamlit) (2022.12.7)\n",
            "Requirement already satisfied: chardet<5,>=3.0.2 in /usr/local/lib/python3.8/dist-packages (from requests>=2.4->streamlit) (4.0.0)\n",
            "Requirement already satisfied: urllib3<1.27,>=1.21.1 in /usr/local/lib/python3.8/dist-packages (from requests>=2.4->streamlit) (1.26.14)\n",
            "Requirement already satisfied: idna<3,>=2.5 in /usr/local/lib/python3.8/dist-packages (from requests>=2.4->streamlit) (2.10)\n",
            "Requirement already satisfied: pygments<3.0.0,>=2.13.0 in /usr/local/lib/python3.8/dist-packages (from rich>=10.11.0->streamlit) (2.14.0)\n",
            "Requirement already satisfied: markdown-it-py<3.0.0,>=2.2.0 in /usr/local/lib/python3.8/dist-packages (from rich>=10.11.0->streamlit) (2.2.0)\n",
            "Requirement already satisfied: decorator>=3.4.0 in /usr/local/lib/python3.8/dist-packages (from validators>=0.2->streamlit) (4.4.2)\n",
            "Requirement already satisfied: smmap<6,>=3.0.1 in /usr/local/lib/python3.8/dist-packages (from gitdb<5,>=4.0.1->gitpython!=3.1.19->streamlit) (5.0.0)\n",
            "Requirement already satisfied: MarkupSafe>=2.0 in /usr/local/lib/python3.8/dist-packages (from jinja2->altair>=3.2.0->streamlit) (2.1.2)\n",
            "Requirement already satisfied: attrs>=17.4.0 in /usr/local/lib/python3.8/dist-packages (from jsonschema>=3.0->altair>=3.2.0->streamlit) (22.2.0)\n",
            "Requirement already satisfied: pyrsistent!=0.17.0,!=0.17.1,!=0.17.2,>=0.14.0 in /usr/local/lib/python3.8/dist-packages (from jsonschema>=3.0->altair>=3.2.0->streamlit) (0.19.3)\n",
            "Requirement already satisfied: importlib-resources>=1.4.0 in /usr/local/lib/python3.8/dist-packages (from jsonschema>=3.0->altair>=3.2.0->streamlit) (5.12.0)\n",
            "Requirement already satisfied: mdurl~=0.1 in /usr/local/lib/python3.8/dist-packages (from markdown-it-py<3.0.0,>=2.2.0->rich>=10.11.0->streamlit) (0.1.2)\n"
          ]
        }
      ]
    },
    {
      "cell_type": "code",
      "source": [
        "import streamlit as st"
      ],
      "metadata": {
        "id": "F3qXFEisdtHn"
      },
      "execution_count": 4,
      "outputs": []
    },
    {
      "cell_type": "code",
      "source": [
        "import sqlite3"
      ],
      "metadata": {
        "id": "mQe3eRvjhYye"
      },
      "execution_count": 6,
      "outputs": []
    },
    {
      "cell_type": "code",
      "source": [
        "sqliteConnection = sqlite3.connect('sql.db')"
      ],
      "metadata": {
        "id": "XyutOjvXdvxY"
      },
      "execution_count": 7,
      "outputs": []
    },
    {
      "cell_type": "code",
      "source": [
        "cursor = sqliteConnection.cursor()\n",
        "print('DB Init')"
      ],
      "metadata": {
        "id": "se4nyRHOhg0Y"
      },
      "execution_count": null,
      "outputs": []
    },
    {
      "cell_type": "code",
      "source": [
        "query = 'select sqlite_version();'\n",
        "cursor.execute(query)\n",
        "result = cursor.fetchall()\n",
        "print('SQLite Version is {}'.format(result))"
      ],
      "metadata": {
        "id": "YTb1U1RMhks_"
      },
      "execution_count": null,
      "outputs": []
    },
    {
      "cell_type": "code",
      "source": [
        "!pip install pyngrok\n",
        "from pyngrok import ngrok"
      ],
      "metadata": {
        "colab": {
          "base_uri": "https://localhost:8080/"
        },
        "id": "RIy50GtVij-N",
        "outputId": "c767fb56-f22a-4efc-b8cd-e4414cd0135d"
      },
      "execution_count": 3,
      "outputs": [
        {
          "output_type": "stream",
          "name": "stdout",
          "text": [
            "Looking in indexes: https://pypi.org/simple, https://us-python.pkg.dev/colab-wheels/public/simple/\n",
            "Requirement already satisfied: pyngrok in /usr/local/lib/python3.8/dist-packages (5.2.1)\n",
            "Requirement already satisfied: PyYAML in /usr/local/lib/python3.8/dist-packages (from pyngrok) (6.0)\n"
          ]
        }
      ]
    },
    {
      "cell_type": "code",
      "source": [
        "ngrok.set_auth_token('2LrTbuznjlyxU0yl7NCdesMPNDA_3hrmEq5efKaprBahEmNxW')"
      ],
      "metadata": {
        "id": "ywgv79dGlDcW",
        "colab": {
          "base_uri": "https://localhost:8080/"
        },
        "outputId": "3952b1b4-5173-4999-d34c-36fbd42bcecf"
      },
      "execution_count": 5,
      "outputs": [
        {
          "output_type": "stream",
          "name": "stderr",
          "text": [
            "INFO:pyngrok.process:Updating authtoken for default \"config_path\" of \"ngrok_path\": /usr/local/lib/python3.8/dist-packages/pyngrok/bin/ngrok\n",
            "2023-03-08 11:53:35.093 INFO    pyngrok.process: Updating authtoken for default \"config_path\" of \"ngrok_path\": /usr/local/lib/python3.8/dist-packages/pyngrok/bin/ngrok\n"
          ]
        }
      ]
    },
    {
      "cell_type": "code",
      "source": [
        "!nohup streamlit run app.py --server.port 80 &"
      ],
      "metadata": {
        "colab": {
          "base_uri": "https://localhost:8080/"
        },
        "id": "AM29tQtbkiIz",
        "outputId": "0420bafe-1e68-4c45-df82-88a25dc64823"
      },
      "execution_count": 6,
      "outputs": [
        {
          "output_type": "stream",
          "name": "stdout",
          "text": [
            "nohup: appending output to 'nohup.out'\n"
          ]
        }
      ]
    },
    {
      "cell_type": "code",
      "source": [
        "ngrok.connect(port = '8080')"
      ],
      "metadata": {
        "colab": {
          "base_uri": "https://localhost:8080/"
        },
        "id": "oQGbZMIkkzIn",
        "outputId": "a701f5da-5156-47ad-f1ae-45d4def31b0b"
      },
      "execution_count": 7,
      "outputs": [
        {
          "output_type": "stream",
          "name": "stderr",
          "text": [
            "INFO:pyngrok.ngrok:Opening tunnel named: http-80-a4bd59b3-c205-4c16-ba73-5c2dbb6d1b4f\n",
            "2023-03-08 11:53:35.273 INFO    pyngrok.ngrok: Opening tunnel named: http-80-a4bd59b3-c205-4c16-ba73-5c2dbb6d1b4f\n",
            "INFO:pyngrok.process.ngrok:t=2023-03-08T11:53:35+0000 lvl=info msg=\"no configuration paths supplied\"\n",
            "2023-03-08 11:53:35.334 INFO    pyngrok.process.ngrok: t=2023-03-08T11:53:35+0000 lvl=info msg=\"no configuration paths supplied\"\n",
            "INFO:pyngrok.process.ngrok:t=2023-03-08T11:53:35+0000 lvl=info msg=\"using configuration at default config path\" path=/root/.ngrok2/ngrok.yml\n",
            "2023-03-08 11:53:35.340 INFO    pyngrok.process.ngrok: t=2023-03-08T11:53:35+0000 lvl=info msg=\"using configuration at default config path\" path=/root/.ngrok2/ngrok.yml\n",
            "INFO:pyngrok.process.ngrok:t=2023-03-08T11:53:35+0000 lvl=info msg=\"open config file\" path=/root/.ngrok2/ngrok.yml err=nil\n",
            "2023-03-08 11:53:35.346 INFO    pyngrok.process.ngrok: t=2023-03-08T11:53:35+0000 lvl=info msg=\"open config file\" path=/root/.ngrok2/ngrok.yml err=nil\n",
            "INFO:pyngrok.process.ngrok:t=2023-03-08T11:53:35+0000 lvl=info msg=\"starting web service\" obj=web addr=127.0.0.1:4040\n",
            "2023-03-08 11:53:35.360 INFO    pyngrok.process.ngrok: t=2023-03-08T11:53:35+0000 lvl=info msg=\"starting web service\" obj=web addr=127.0.0.1:4040\n",
            "INFO:pyngrok.process.ngrok:t=2023-03-08T11:53:35+0000 lvl=info msg=\"tunnel session started\" obj=tunnels.session\n",
            "2023-03-08 11:53:35.526 INFO    pyngrok.process.ngrok: t=2023-03-08T11:53:35+0000 lvl=info msg=\"tunnel session started\" obj=tunnels.session\n",
            "INFO:pyngrok.process.ngrok:t=2023-03-08T11:53:35+0000 lvl=info msg=\"client session established\" obj=csess id=10fb7a41af0b\n",
            "2023-03-08 11:53:35.535 INFO    pyngrok.process.ngrok: t=2023-03-08T11:53:35+0000 lvl=info msg=\"client session established\" obj=csess id=10fb7a41af0b\n",
            "INFO:pyngrok.process.ngrok:t=2023-03-08T11:53:35+0000 lvl=info msg=start pg=/api/tunnels id=ef0096022164e083\n",
            "2023-03-08 11:53:35.559 INFO    pyngrok.process.ngrok: t=2023-03-08T11:53:35+0000 lvl=info msg=start pg=/api/tunnels id=ef0096022164e083\n",
            "INFO:pyngrok.process.ngrok:t=2023-03-08T11:53:35+0000 lvl=info msg=end pg=/api/tunnels id=ef0096022164e083 status=200 dur=336.018µs\n",
            "2023-03-08 11:53:35.567 INFO    pyngrok.process.ngrok: t=2023-03-08T11:53:35+0000 lvl=info msg=end pg=/api/tunnels id=ef0096022164e083 status=200 dur=336.018µs\n",
            "INFO:pyngrok.process.ngrok:t=2023-03-08T11:53:35+0000 lvl=info msg=start pg=/api/tunnels id=ab75edb07af54118\n",
            "2023-03-08 11:53:35.574 INFO    pyngrok.process.ngrok: t=2023-03-08T11:53:35+0000 lvl=info msg=start pg=/api/tunnels id=ab75edb07af54118\n",
            "INFO:pyngrok.process.ngrok:t=2023-03-08T11:53:35+0000 lvl=info msg=end pg=/api/tunnels id=ab75edb07af54118 status=200 dur=102.387µs\n",
            "2023-03-08 11:53:35.580 INFO    pyngrok.process.ngrok: t=2023-03-08T11:53:35+0000 lvl=info msg=end pg=/api/tunnels id=ab75edb07af54118 status=200 dur=102.387µs\n",
            "INFO:pyngrok.process.ngrok:t=2023-03-08T11:53:35+0000 lvl=info msg=start pg=/api/tunnels id=84c20f5af7ea8940\n",
            "2023-03-08 11:53:35.590 INFO    pyngrok.process.ngrok: t=2023-03-08T11:53:35+0000 lvl=info msg=start pg=/api/tunnels id=84c20f5af7ea8940\n",
            "INFO:pyngrok.process.ngrok:t=2023-03-08T11:53:35+0000 lvl=info msg=\"started tunnel\" obj=tunnels name=\"http-80-a4bd59b3-c205-4c16-ba73-5c2dbb6d1b4f (http)\" addr=http://localhost:80 url=http://f126-34-121-9-188.ngrok.io\n",
            "2023-03-08 11:53:35.646 INFO    pyngrok.process.ngrok: t=2023-03-08T11:53:35+0000 lvl=info msg=\"started tunnel\" obj=tunnels name=\"http-80-a4bd59b3-c205-4c16-ba73-5c2dbb6d1b4f (http)\" addr=http://localhost:80 url=http://f126-34-121-9-188.ngrok.io\n",
            "INFO:pyngrok.process.ngrok:t=2023-03-08T11:53:35+0000 lvl=info msg=\"started tunnel\" obj=tunnels name=http-80-a4bd59b3-c205-4c16-ba73-5c2dbb6d1b4f addr=http://localhost:80 url=https://f126-34-121-9-188.ngrok.io\n"
          ]
        },
        {
          "output_type": "execute_result",
          "data": {
            "text/plain": [
              "<NgrokTunnel: \"http://f126-34-121-9-188.ngrok.io\" -> \"http://localhost:80\">"
            ]
          },
          "metadata": {},
          "execution_count": 7
        },
        {
          "output_type": "stream",
          "name": "stderr",
          "text": [
            "2023-03-08 11:53:35.656 INFO    pyngrok.process.ngrok: t=2023-03-08T11:53:35+0000 lvl=info msg=\"started tunnel\" obj=tunnels name=http-80-a4bd59b3-c205-4c16-ba73-5c2dbb6d1b4f addr=http://localhost:80 url=https://f126-34-121-9-188.ngrok.io\n",
            "INFO:pyngrok.process.ngrok:t=2023-03-08T11:53:35+0000 lvl=info msg=end pg=/api/tunnels id=84c20f5af7ea8940 status=201 dur=82.634215ms\n",
            "2023-03-08 11:53:35.659 INFO    pyngrok.process.ngrok: t=2023-03-08T11:53:35+0000 lvl=info msg=end pg=/api/tunnels id=84c20f5af7ea8940 status=201 dur=82.634215ms\n",
            "INFO:pyngrok.process.ngrok:t=2023-03-08T11:53:35+0000 lvl=info msg=start pg=\"/api/tunnels/http-80-a4bd59b3-c205-4c16-ba73-5c2dbb6d1b4f (http)\" id=b56a2403b7f8cdc2\n",
            "2023-03-08 11:53:35.663 INFO    pyngrok.process.ngrok: t=2023-03-08T11:53:35+0000 lvl=info msg=start pg=\"/api/tunnels/http-80-a4bd59b3-c205-4c16-ba73-5c2dbb6d1b4f (http)\" id=b56a2403b7f8cdc2\n",
            "INFO:pyngrok.process.ngrok:t=2023-03-08T11:53:35+0000 lvl=info msg=end pg=\"/api/tunnels/http-80-a4bd59b3-c205-4c16-ba73-5c2dbb6d1b4f (http)\" id=b56a2403b7f8cdc2 status=200 dur=158.547µs\n"
          ]
        }
      ]
    },
    {
      "cell_type": "code",
      "source": [
        "%%writefile app.py\n",
        "import streamlit as st\n",
        "import PIL\n",
        "import easyocr\n",
        "from PIL import ImageDraw\n",
        "from PIL import Image\n",
        "def load_image(image_file):\n",
        "\timg = Image.open(image_file)\n",
        "\treturn img\n",
        "\n",
        "file = st.file_uploader(\"Upload Images\", type=[\"png\",\"jpg\",\"jpeg\"])\n",
        "if file is not None:\n",
        "  st.image(load_image(file),width=250)\n",
        "  im = PIL.Image.open(file)\n",
        "  st.image(im)\n",
        "  st.write(file)\n",
        "  reader = easyocr.Reader(['en'])\n",
        "  bounds = reader.readtext('/content/1.png', detail = 0, paragraph=True)\n",
        "  st.write(bounds)\n",
        "  bound = reader.readtext('file.name', detail = 0, paragraph=True)\n",
        "  st.write(bounds)\n",
        "\n",
        "\n",
        "st.write(\"hello\")"
      ],
      "metadata": {
        "colab": {
          "base_uri": "https://localhost:8080/"
        },
        "id": "ZZZG5_T-k0lG",
        "outputId": "53677cd7-c7e5-4ccf-828e-f36ad5984496"
      },
      "execution_count": null,
      "outputs": [
        {
          "output_type": "stream",
          "name": "stdout",
          "text": [
            "Writing app.py\n"
          ]
        }
      ]
    },
    {
      "cell_type": "code",
      "source": [
        "import streamlit as st\n",
        "import easyocr as ocr\n",
        "import sqlite3\n",
        "\n",
        "uploaded_file = st.file_uploader(\"Upload a business card image\", type=[\"jpg\", \"jpeg\", \"png\"])\n",
        "if st.button(\"Extract Information\"):\n",
        "    if uploaded_file is not None:\n",
        "        image = uploaded_file.read()\n",
        "        reader = ocr.Reader(['en'])\n",
        "        results = reader.readtext(image)      \n",
        "        st.write(\"Extracted Information:\")\n",
        "        table_data = [[result[0], result[1]] for result in results]\n",
        "        st.table(table_data) \n",
        "        conn = sqlite3.connect('business_cards.db')\n",
        "        c = conn.cursor()\n",
        "        c.execute('CREATE TABLE IF NOT EXISTS business_cards (id INTEGER PRIMARY KEY, image BLOB, name TEXT, email TEXT, phone TEXT)')\n",
        "        name = \"\"\n",
        "        email = \"\"\n",
        "        phone = \"\"\n",
        "        for result in results:\n",
        "            if \"name\" in result[1].lower():\n",
        "                name = result[1].split(\"name\")[-1].strip()\n",
        "            elif \"email\" in result[1].lower():\n",
        "                email = result[1].split(\"email\")[-1].strip()\n",
        "            elif \"phone\" in result[1].lower():\n",
        "                phone = result[1].split(\"phone\")[-1].strip()\n",
        "        c.execute(\"INSERT INTO business_cards (image, name, email, phone) VALUES (?, ?, ?, ?)\", (sqlite3.Binary(image), name, email, phone))\n",
        "        conn.commit()\n",
        "        conn.close()\n",
        "    else:\n",
        "        st.write(\"Please upload an image before extracting information.\")"
      ],
      "metadata": {
        "id": "pu_TK0EFC7C1"
      },
      "execution_count": null,
      "outputs": []
    },
    {
      "cell_type": "code",
      "source": [
        "import streamlit as st\n",
        "import easyocr\n",
        "import mysql.connector\n",
        "import cv2\n",
        "import numpy as np \n",
        "import pandas as pd\n",
        "from mysql.connector import Error\n",
        "\n",
        "# Connect to MySQL database\n",
        "mydb = mysql.connector.connect(\n",
        "    host=\"localhost\",\n",
        "    user=\"root\",\n",
        "    password=\"Shruthy#123\",\n",
        "    database=\"bissness\")\n",
        "\n",
        "# Create a cursor object to execute SQL queries\n",
        "mycursor = mydb.cursor()\n",
        "\n",
        "# Create a table to store the business card information\n",
        "mycursor.execute(\"CREATE TABLE IF NOT EXISTS business1 (id INT AUTO_INCREMENT PRIMARY KEY, image LONGBLOB, name VARCHAR(255), job_title VARCHAR(255), address VARCHAR(255), postcode VARCHAR(255), phone VARCHAR(255), email VARCHAR(255), website VARCHAR(255), company_name VARCHAR(225))\")\n",
        "\n",
        "# Create an OCR object to read text from the image\n",
        "reader = easyocr.Reader(['en'])\n",
        "\n",
        "\n",
        "st.markdown(\n",
        "         f\"\"\"\n",
        "         <style>\n",
        "         .stApp {{\n",
        "             background-image: url(\"https://cdn.wallpapersafari.com/53/63/pnd4MG.jpg\");\n",
        "             background-attachment: fixed;\n",
        "             background-size: cover\n",
        "         }}\n",
        "         </style>\n",
        "         \"\"\",\n",
        "         unsafe_allow_html=True\n",
        "         \n",
        "        )\n",
        "#display \n",
        "st.title(\":blue[Extracting Business Card Data with OCR]\")\n",
        "\n",
        "# Create a file uploader widget\n",
        "uploaded_file = st.file_uploader(\"Upload a business card image\", type=[\"jpg\", \"jpeg\", \"png\"])\n",
        "\n",
        "# Create a sidebar menu with options to add, view, update, and delete business card information\n",
        "menu = ['Add', 'View', 'Update', 'Delete']\n",
        "choice = st.sidebar.selectbox(\"Select an option\", menu)\n",
        "\n",
        "if choice == 'Add':\n",
        "    if uploaded_file is not None:\n",
        "        # Read the image using OpenCV\n",
        "        image = cv2.imdecode(np.fromstring(uploaded_file.read(), np.uint8), 1)\n",
        "        # Display the uploaded image\n",
        "        st.image(image, caption='Uploaded business card image', use_column_width=True)\n",
        "        # Create a button to extract information from the image\n",
        "        if st.button('Extract Information'):\n",
        "            # Call the function to extract the information from the image\n",
        "            bounds = reader.readtext(image, detail=0)\n",
        "            # Convert the extracted information to a string\n",
        "            text = \"\\n\".join(bounds)\n",
        "            # Insert the extracted information and image into the database\n",
        "            sql = \"INSERT INTO business1(image, name, job_title, address, postcode, phone, email, website, company_name) VALUES (%s, %s, %s, %s, %s, %s, %s, %s, %s)\"\n",
        "            retval, buffer = cv2.imencode('.jpg', image)\n",
        "            val = (buffer.tobytes(), bounds[0], bounds[1], bounds[2], bounds[3], bounds[4], bounds[5], bounds[6], bounds[7])\n",
        "            mycursor.execute(sql, val)\n",
        "            mydb.commit()\n",
        "            # Display a success message\n",
        "            st.success(\"Business card information added to database.\")\n",
        "elif choice == 'View':\n",
        "    # Display the stored business card information\n",
        "    mycursor.execute(\"SELECT * FROM business1\")\n",
        "    result = mycursor.fetchall()\n",
        "    df = pd.DataFrame(result, columns=['id', 'image', 'name', 'job_title', 'address', 'postcode', 'phone', 'email', 'website', 'company_name'])\n",
        "    st.write(df)\n",
        "\n",
        "elif choice == 'Update':\n",
        "    # Create a dropdown menu to select a business card to update\n",
        "    mycursor.execute(\"SELECT id, name FROM business1\")\n",
        "    result = mycursor.fetchall()\n",
        "    business_cards = {}\n",
        "    for row in result:\n",
        "        business_cards[row[1]] = row[0]\n",
        "    selected_card_name = st.selectbox(\"Select a business card to update\", list(business_cards.keys()))\n",
        "    \n",
        "    # Get the current information for the selected business card\n",
        "    mycursor.execute(\"SELECT * FROM business1 WHERE name=%s\", (selected_card_name,))\n",
        "    result = mycursor.fetchone()\n",
        "\n",
        "    # Display the current information for the selected business card\n",
        "    st.write(\"Name:\", result[2])\n",
        "    st.write(\"Job Title:\", result[3])\n",
        "    st.write(\"Address:\", result[4])\n",
        "    st.write(\"Postcode:\", result[5])\n",
        "    st.write(\"Phone:\", result[6])\n",
        "    st.write(\"Email:\", result[7])\n",
        "    st.write(\"Website:\", result[8])\n",
        "    st.write(\"company_name:\", result[9])\n",
        "\n",
        "    # Get new information for the business card\n",
        "    name = st.text_input(\"Name\", result[2])\n",
        "    job_title = st.text_input(\"Job Title\", result[3])\n",
        "    address = st.text_input(\"Address\", result[4])\n",
        "    postcode = st.text_input(\"Postcode\", result[5])\n",
        "    phone = st.text_input(\"Phone\", result[6])\n",
        "    email = st.text_input(\"Email\", result[7])\n",
        "    website = st.text_input(\"Website\", result[8])\n",
        "    company_name = st.text_input(\"Company Name\", result[9])\n",
        "\n",
        "    # Create a button to update the business card\n",
        "    if st.button(\"Update Business Card\"):\n",
        "        # Update the information for the selected business card in the database\n",
        "        mycursor.execute(\"UPDATE business1 SET name=%s, job_title=%s, address=%s, postcode=%s, phone=%s, email=%s, website=%s, company_name=%s WHERE name=%s\", \n",
        "                             (name, job_title, address, postcode, phone, email, website, company_name, selected_card_name))\n",
        "        mydb.commit()\n",
        "        st.success(\"Business card information updated in database.\")\n",
        "elif choice == 'Delete':\n",
        "    # Create a dropdown menu to select a business card to delete\n",
        "    mycursor.execute(\"SELECT id, name FROM business1\")\n",
        "    result = mycursor.fetchall()\n",
        "    business_cards = {}\n",
        "    for row in result:\n",
        "        business_cards[row[0]] = row[1]\n",
        "    selected_card_id = st.selectbox(\"Select a business card to delete\", list(business_cards.keys()), format_func=lambda x: business_cards[x])\n",
        "\n",
        "    # Get the name of the selected business card\n",
        "    mycursor.execute(\"SELECT name FROM business1 WHERE id=%s\", (selected_card_id,))\n",
        "    result = mycursor.fetchone()\n",
        "    selected_card_name = result[0]\n",
        "\n",
        "    # Display the current information for the selected business card\n",
        "    st.write(\"Name:\", selected_card_name)\n",
        "    # Display the rest of the information for the selected business card\n",
        "\n",
        "    # Create a button to confirm the deletion of the selected business card\n",
        "    if st.button(\"Delete Business Card\"):\n",
        "        mycursor.execute(\"DELETE FROM business1 WHERE name=%s\", (selected_card_name,))\n",
        "        mydb.commit()\n",
        "        st.success(\"Business card information deleted from database.\")"
      ],
      "metadata": {
        "id": "qCdD-t33Ddz5"
      },
      "execution_count": null,
      "outputs": []
    }
  ]
}